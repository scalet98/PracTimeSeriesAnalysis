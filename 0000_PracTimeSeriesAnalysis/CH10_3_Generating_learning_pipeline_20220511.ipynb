{
 "cells": [
  {
   "cell_type": "markdown",
   "id": "e47e1a15",
   "metadata": {},
   "source": [
    "# CH10_3_Generating_learning_pipeline\n",
    "\n",
    "- Last update : 20220511"
   ]
  },
  {
   "cell_type": "code",
   "execution_count": 6,
   "id": "fc725fc3",
   "metadata": {},
   "outputs": [],
   "source": [
    "from math import floor\n",
    "\n",
    "## saving module \n",
    "import os \n",
    "\n",
    "import argparse\n",
    "\n",
    "## Diplearning module \n",
    "import mxnet as mx \n",
    "\n",
    "## Data processing module \n",
    "import numpy as np \n",
    "import pandas as pd\n",
    "\n",
    "## user designed reporting module \n",
    "import perf"
   ]
  },
  {
   "cell_type": "code",
   "execution_count": 15,
   "id": "5ee62a37",
   "metadata": {},
   "outputs": [
    {
     "data": {
      "text/plain": [
       "_StoreAction(option_strings=['---save-dir'], dest='save_dir', nargs=None, const=None, default=None, type=<class 'str'>, choices=None, help=None, metavar=None)"
      ]
     },
     "execution_count": 15,
     "metadata": {},
     "output_type": "execute_result"
    }
   ],
   "source": [
    "## There are unentered several hyperparameters.\n",
    "\n",
    "DATA_SEGMENTS = { 'tr': 0.6, 'va': 0.2, 'tst': 0.2}\n",
    "THRESHOLD_EPOCHS = 5 \n",
    "COR_THRESHOLD = 0.0005\n",
    "\n",
    "## PARSER SETTING \n",
    "parser = argparse.ArgumentParser()\n",
    "\n",
    "## Data shapes \n",
    "parser.add_argument('--win', type=int, default=24*7)\n",
    "parser.add_argument('--h', type=int, default=3)\n",
    "\n",
    "## Data spec. \n",
    "parser.add_argument('--model', type=str, default='rnn_model')\n",
    "\n",
    "## cnn component factors \n",
    "parser.add_argument('--sz-fillt', type=int, default=8)\n",
    "parser.add_argument('--n-fillt', type=int, default=10)\n",
    "\n",
    "## Rnn component factors \n",
    "parser.add_argument('--rnn-units', type=int, default=10)\n",
    "\n",
    "## learning spec. \n",
    "parser.add_argument('--batch-n', type=int, default=1024)\n",
    "parser.add_argument('--lr', type=float, default=0.0001)\n",
    "parser.add_argument('--drop', type=float, default=0.2)\n",
    "parser.add_argument('--n-epochs', type=int, default=30)\n",
    "\n",
    "## Work spec. saving\n",
    "parser.add_argument('--data-dir', type=str, default='../data')\n",
    "parser.add_argument('---save-dir', type=str, default=None)"
   ]
  },
  {
   "cell_type": "code",
   "execution_count": 17,
   "id": "7d6a3421",
   "metadata": {},
   "outputs": [
    {
     "ename": "SyntaxError",
     "evalue": "invalid syntax (Temp/ipykernel_2292/996207668.py, line 3)",
     "output_type": "error",
     "traceback": [
      "\u001b[1;36m  File \u001b[1;32m\"C:\\Users\\scalet98\\AppData\\Local\\Temp/ipykernel_2292/996207668.py\"\u001b[1;36m, line \u001b[1;32m3\u001b[0m\n\u001b[1;33m    --data-dir=/data/elec --save-dir=/archive/results\u001b[0m\n\u001b[1;37m               ^\u001b[0m\n\u001b[1;31mSyntaxError\u001b[0m\u001b[1;31m:\u001b[0m invalid syntax\n"
     ]
    }
   ],
   "source": [
    "## hyperparameter setting \n",
    "--drop=0.2 --win=96 --batch-n=128 --lr=0.001 --n-epochs=25\n",
    "--data-dir=/data/elec --save-dir=/archive/results \n",
    "--model= 'wanted_model_type'"
   ]
  },
  {
   "cell_type": "code",
   "execution_count": null,
   "id": "3d291aff",
   "metadata": {},
   "outputs": [],
   "source": []
  }
 ],
 "metadata": {
  "kernelspec": {
   "display_name": "Tensorflow_py37",
   "language": "python",
   "name": "tf_py37"
  },
  "language_info": {
   "codemirror_mode": {
    "name": "ipython",
    "version": 3
   },
   "file_extension": ".py",
   "mimetype": "text/x-python",
   "name": "python",
   "nbconvert_exporter": "python",
   "pygments_lexer": "ipython3",
   "version": "3.7.11"
  }
 },
 "nbformat": 4,
 "nbformat_minor": 5
}
